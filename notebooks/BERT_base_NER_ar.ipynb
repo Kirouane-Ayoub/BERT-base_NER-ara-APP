{
  "nbformat": 4,
  "nbformat_minor": 0,
  "metadata": {
    "colab": {
      "provenance": []
    },
    "kernelspec": {
      "name": "python3",
      "display_name": "Python 3"
    },
    "language_info": {
      "name": "python"
    }
  },
  "cells": [
    {
      "cell_type": "code",
      "execution_count": null,
      "metadata": {
        "id": "QADdp-m-yCc6"
      },
      "outputs": [],
      "source": [
        "! pip install transformers"
      ]
    },
    {
      "cell_type": "code",
      "source": [
        "from transformers import AutoModelForTokenClassification, AutoTokenizer\n",
        "import torch\n",
        "# Load the fine-tuned model\n",
        "model = AutoModelForTokenClassification.from_pretrained(\"ayoubkirouane/BERT-base_NER-ar\")\n",
        "tokenizer = AutoTokenizer.from_pretrained(\"ayoubkirouane/BERT-base_NER-ar\")\n",
        "\n",
        "# Tokenize your input text\n",
        "text = \"أبو ظبي هي عاصمة دولة الإمارات العربية المتحدة.\"\n",
        "tokens = tokenizer.tokenize(tokenizer.decode(tokenizer.encode(text)))\n",
        "\n",
        "# Convert tokens to input IDs\n",
        "input_ids = tokenizer.convert_tokens_to_ids(tokens)\n",
        "\n",
        "# Perform NER inference\n",
        "with torch.no_grad():\n",
        "    outputs = model(torch.tensor([input_ids]))\n",
        "\n",
        "# Get the predicted labels for each token\n",
        "predicted_labels = outputs[0].argmax(dim=2).cpu().numpy()[0]\n",
        "\n",
        "# Map label IDs to human-readable labels\n",
        "predicted_labels = [model.config.id2label[label_id] for label_id in predicted_labels]\n",
        "\n",
        "# Print the tokenized text and its associated labels\n",
        "for token, label in zip(tokens, predicted_labels):\n",
        "    print(f\"Token: {token}, Label: {label}\")"
      ],
      "metadata": {
        "id": "HQFq3rjgyDj7",
        "colab": {
          "base_uri": "https://localhost:8080/"
        },
        "outputId": "8e2f576f-814b-4542-9849-75bb40b76d07"
      },
      "execution_count": 11,
      "outputs": [
        {
          "output_type": "stream",
          "name": "stdout",
          "text": [
            "Token: [CLS], Label: LABEL_0\n",
            "Token: أبو, Label: LABEL_5\n",
            "Token: ظ, Label: LABEL_6\n",
            "Token: ##بي, Label: LABEL_6\n",
            "Token: هي, Label: LABEL_0\n",
            "Token: عاصمة, Label: LABEL_0\n",
            "Token: دولة, Label: LABEL_0\n",
            "Token: الإمارات, Label: LABEL_5\n",
            "Token: العربية, Label: LABEL_6\n",
            "Token: المتحدة, Label: LABEL_6\n",
            "Token: ., Label: LABEL_0\n",
            "Token: [SEP], Label: LABEL_0\n"
          ]
        }
      ]
    },
    {
      "cell_type": "code",
      "source": [
        "from transformers import pipeline\n",
        "\n",
        "# Load the NER pipeline for BERT-base_NER-ar\n",
        "pipe = pipeline(\"token-classification\", model=\"ayoubkirouane/BERT-base_NER-ar\")\n",
        "\n",
        "\n",
        "# Define the input text\n",
        "text = \"أبو ظبي هي عاصمة دولة الإمارات العربية المتحدة.\"\n",
        "\n",
        "# Run NER on the input text\n",
        "results = pipe(text)\n",
        "\n",
        "# Print the named entities and their labels\n",
        "for entity in results:\n",
        "    print(f\"Entity: {entity['word']}, Label: {entity['entity']}\")\n"
      ],
      "metadata": {
        "colab": {
          "base_uri": "https://localhost:8080/"
        },
        "id": "Yf9Wv1pg2Qhx",
        "outputId": "da2c4daa-f28a-45ef-d79d-4481e8a70eb2"
      },
      "execution_count": 13,
      "outputs": [
        {
          "output_type": "stream",
          "name": "stdout",
          "text": [
            "Entity: أبو, Label: LABEL_5\n",
            "Entity: ظ, Label: LABEL_6\n",
            "Entity: ##بي, Label: LABEL_6\n",
            "Entity: هي, Label: LABEL_0\n",
            "Entity: عاصمة, Label: LABEL_0\n",
            "Entity: دولة, Label: LABEL_0\n",
            "Entity: الإمارات, Label: LABEL_5\n",
            "Entity: العربية, Label: LABEL_6\n",
            "Entity: المتحدة, Label: LABEL_6\n",
            "Entity: ., Label: LABEL_0\n"
          ]
        }
      ]
    },
    {
      "cell_type": "code",
      "source": [
        "! pip install -q  gradio"
      ],
      "metadata": {
        "id": "upR_YwDi2wzn"
      },
      "execution_count": 14,
      "outputs": []
    },
    {
      "cell_type": "code",
      "source": [
        "import gradio as gr\n",
        "from transformers import AutoModelForTokenClassification, AutoTokenizer\n",
        "import torch\n",
        "\n",
        "# Load the fine-tuned model and tokenizer\n",
        "model = AutoModelForTokenClassification.from_pretrained(\"ayoubkirouane/BERT-base_NER-ar\")\n",
        "tokenizer = AutoTokenizer.from_pretrained(\"ayoubkirouane/BERT-base_NER-ar\")\n",
        "\n",
        "# Create a function to perform NER\n",
        "def perform_ner(text):\n",
        "    # Tokenize the input text\n",
        "    tokens = tokenizer.tokenize(tokenizer.decode(tokenizer.encode(text)))\n",
        "\n",
        "    # Convert tokens to input IDs\n",
        "    input_ids = tokenizer.convert_tokens_to_ids(tokens)\n",
        "\n",
        "    # Perform NER inference\n",
        "    with torch.no_grad():\n",
        "        outputs = model(torch.tensor([input_ids]))\n",
        "\n",
        "    # Get the predicted labels for each token\n",
        "    predicted_labels = outputs[0].argmax(dim=2).cpu().numpy()[0]\n",
        "\n",
        "    # Map label IDs to human-readable labels\n",
        "    predicted_labels = [model.config.id2label[label_id] for label_id in predicted_labels]\n",
        "\n",
        "    # Create a list of entities and their labels\n",
        "    entities = [{\"entity\": token, \"label\": label} for token, label in zip(tokens, predicted_labels)]\n",
        "\n",
        "    return entities\n",
        "\n",
        "# Create a Gradio interface\n",
        "iface = gr.Interface(\n",
        "    fn=perform_ner,\n",
        "    inputs=\"text\",\n",
        "    outputs=\"json\",\n",
        "    live=True,\n",
        "    title=\"Arabic Named Entity Recognition\",\n",
        "    description=\"Enter Arabic text to extract named entities (e.g., names of people, locations, organizations).\",\n",
        ")\n",
        "\n",
        "# Launch the Gradio app\n",
        "iface.launch(share = True , debug=True )\n"
      ],
      "metadata": {
        "id": "l7Ye5Ey22pfw"
      },
      "execution_count": null,
      "outputs": []
    }
  ]
}